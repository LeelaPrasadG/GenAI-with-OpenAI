{
 "cells": [
  {
   "cell_type": "code",
   "execution_count": 1,
   "id": "d21359f0",
   "metadata": {},
   "outputs": [],
   "source": [
    "# imports:-\n",
    "\n",
    "import requests\n",
    "from bs4 import BeautifulSoup\n",
    "from IPython.display import Markdown, display\n",
    "import ollama"
   ]
  },
  {
   "cell_type": "code",
   "execution_count": 2,
   "id": "ed839ae6",
   "metadata": {},
   "outputs": [],
   "source": [
    "#MODEL = \"llama3.2\"\n",
    "#MODEL = \"llama3.2:1b\"\n",
    "MODEL = \"gemma3:4b\""
   ]
  },
  {
   "cell_type": "code",
   "execution_count": 3,
   "id": "dc236c60",
   "metadata": {},
   "outputs": [],
   "source": [
    "class Website:\n",
    "    def __init__(self, url):\n",
    "        self.url = url\n",
    "        response = requests.get(url)\n",
    "        soup = BeautifulSoup(response.content, 'html.parser')\n",
    "        self.title = soup.title.string if soup.title else \"No title found\"\n",
    "        for irrelevant in soup.body([\"script\", \"style\", \"img\", \"input\"]):\n",
    "            irrelevant.decompose()\n",
    "        self.text = soup.body.get_text(separator=\"\\n\", strip=True)"
   ]
  },
  {
   "cell_type": "code",
   "execution_count": 4,
   "id": "00b65e22",
   "metadata": {},
   "outputs": [],
   "source": [
    "system_prompt = \"You are an assistant that analyzes the contents of a website \\\n",
    "                and provides a short summary, ignoring text that might be navigation related. \\\n",
    "                Respond in markdown.\""
   ]
  },
  {
   "cell_type": "code",
   "execution_count": 5,
   "id": "79ca4ff2",
   "metadata": {},
   "outputs": [],
   "source": [
    "def user_prompt_for(website):\n",
    "    user_prompt = f\"You are looking at a website titled {website.title}\"\n",
    "    user_prompt += \"\\nThe contents of this website is as follows; \\\n",
    "                    please provide a short summary of this website in markdown. \\\n",
    "                    If it includes news or announcements, then summarize these too.\\n\\n\"\n",
    "    user_prompt += website.text\n",
    "    return user_prompt"
   ]
  },
  {
   "cell_type": "code",
   "execution_count": 6,
   "id": "6d85dec3",
   "metadata": {},
   "outputs": [],
   "source": [
    "def messages_for(website):\n",
    "    return [\n",
    "        {\"role\": \"system\", \"content\": system_prompt},\n",
    "        {\"role\": \"user\", \"content\": user_prompt_for(website)}\n",
    "    ]"
   ]
  },
  {
   "cell_type": "code",
   "execution_count": 7,
   "id": "a4296721",
   "metadata": {},
   "outputs": [],
   "source": [
    "def summary(url):\n",
    "    website = Website(url)\n",
    "    response = ollama.chat(\n",
    "        model = MODEL,\n",
    "        messages = messages_for(website)\n",
    "    )\n",
    "    return display(Markdown(response['message']['content']))"
   ]
  },
  {
   "cell_type": "code",
   "execution_count": 8,
   "id": "fac3dad1",
   "metadata": {},
   "outputs": [
    {
     "data": {
      "text/markdown": [
       "Okay, here's a breakdown of the content from that extensive CNN website page, categorized for easier understanding:\n",
       "\n",
       "**I. Core News & Current Events (Dominant Sections)**\n",
       "\n",
       "*   **Ukraine-Russia War:** Ongoing coverage, including the Israel-Hamas war fallout.\n",
       "*   **Israel-Hamas War:**  Extensive reporting, analysis, and potential implications.\n",
       "*   **US Politics:** Coverage of the Trump presidency, the 2025 elections, and related political developments.\n",
       "*   **Trump:** Focused coverage of his actions and impact.\n",
       "*   **US Crime & Justice:** Coverage of criminal investigations, trials, and justice system issues.\n",
       "*   **US Politics:** (Repeated) - Focus on the political landscape.\n",
       "\n",
       "**II.  News Categories & Topics**\n",
       "\n",
       "*   **Business & Tech:**  Market analysis, tech news, and business developments (including \"Fear & Greed\" indices).\n",
       "*   **Health:**  Focus on health-related topics (fitness, food, sleep, mindfulness).\n",
       "*   **Science & Space:** Reporting on scientific discoveries, including Mars exploration (\"Unearthed\").\n",
       "*   **Sports:** Coverage of major sports leagues (Pro Football, College Football, Basketball, Baseball, Soccer, Olympics, Hockey).\n",
       "*   **World News:** (Broad Categories) – Africa, Americas, Asia, Australia, China, Europe, India, Middle East, United Kingdom – indicating global reporting.\n",
       "\n",
       "**III. CNN’s Programming & Content Formats**\n",
       "\n",
       "*   **CNN Headlines:**  A rapid-fire summary of top news stories.\n",
       "*   **CNN Shorts:**  Short-form video news clips.\n",
       "*   **Shows A-Z:**  A listing of all CNN’s show titles.\n",
       "*   **CNN10:**  A 10-minute news program geared towards children.\n",
       "*   **CNN Max:**  (Presumably a premium/subscription service with additional content – details not provided).\n",
       "*   **CNN TV Schedules:**  Listing of all live CNN programming.\n",
       "*   **FlashDocs:**  Quick, often video-based stories.\n",
       "*   **CNN 5 Things:**  A daily rundown of the top 5 news stories.\n",
       "*   **Chasing Life with Dr. Sanjay Gupta:** A health-focused program.\n",
       "*   **The Assignment with Audie Cornish:** A political and economic discussion show.\n",
       "*   **Tug of War:**  A political debate show.\n",
       "*   **Games:**  Interactive games (Crosswords, Jumble).\n",
       "*   **Podcasts:** (Multiple listed) – “Mahjong”, “Mission: Ahead”, “Innovative Cities”.\n",
       "\n",
       "**IV.  Content Formats & Tools**\n",
       "\n",
       "*   **FlashDocs:** Quick, often video-based stories.\n",
       "*   **Live TV:** (Listing of shows and schedules)\n",
       "*   **FlashDocs:** Quick, often video-based stories.\n",
       "\n",
       "**V.  Lifestyle & Consumer Content**\n",
       "\n",
       "*   **Style & Beauty:**  Fashion, beauty trends, and coverage of fashion weeks (e.g., New York Fashion Week).\n",
       "*   **Health & Fitness:** Articles and content related to wellness.\n",
       "*   **Food:**  Content related to culinary topics.\n",
       "*   **Travel:** Destination guides and travel news.\n",
       "*   **Entertainment:**  Movies, television, celebrity news.\n",
       "*   **Tech Reviews:** Focused on technology products (e.g., Apple Watch).\n",
       "\n",
       "**VI.  Tools & Resources**\n",
       "\n",
       "*   **Calculators:** (Likely financial or election-related).\n",
       "*   **Transcripts:** (Access to transcripts of CNN programs).\n",
       "*   **Help Center:**  Customer support and FAQs.\n",
       "\n",
       "**VII.  Subscription & Engagement**\n",
       "\n",
       "*   **Subscribe:** Links for subscribing to CNN’s channels and services.\n",
       "*   **My Account:** User account management.\n",
       "*   **Newsletters:** (Multiple options) – sign up for daily news summaries.\n",
       "\n",
       "\n",
       "\n",
       "This breakdown gives you a comprehensive overview of the breadth and depth of content available on the CNN website.  Do you want me to focus on a specific section or aspect of this information (e.g., the types of news being reported, the different content formats used, or the types of subscription services offered)?"
      ],
      "text/plain": [
       "<IPython.core.display.Markdown object>"
      ]
     },
     "metadata": {},
     "output_type": "display_data"
    }
   ],
   "source": [
    "summary(\"https://cnn.com\")\n",
    "#summary(\"https://timesofindia.indiatimes.com/\")\n",
    "#summary(\"https://anthropic.com\")"
   ]
  }
 ],
 "metadata": {
  "kernelspec": {
   "display_name": "base",
   "language": "python",
   "name": "python3"
  },
  "language_info": {
   "codemirror_mode": {
    "name": "ipython",
    "version": 3
   },
   "file_extension": ".py",
   "mimetype": "text/x-python",
   "name": "python",
   "nbconvert_exporter": "python",
   "pygments_lexer": "ipython3",
   "version": "3.12.3"
  }
 },
 "nbformat": 4,
 "nbformat_minor": 5
}
